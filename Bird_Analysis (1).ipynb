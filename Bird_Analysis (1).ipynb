{
  "nbformat": 4,
  "nbformat_minor": 0,
  "metadata": {
    "colab": {
      "private_outputs": true,
      "provenance": [],
      "collapsed_sections": [
        "vncDsAP0Gaoa",
        "FJNUwmbgGyua",
        "w6K7xa23Elo4",
        "x71ZqKXriCWQ",
        "7hBIi_osiCS2",
        "JlHwYmJAmNHm",
        "35m5QtbWiB9F",
        "PoPl-ycgm1ru",
        "H0kj-8xxnORC",
        "nA9Y7ga8ng1Z",
        "PBTbrJXOngz2",
        "u3PMJOP6ngxN",
        "dauF4eBmngu3",
        "bKJF3rekwFvQ",
        "MSa1f5Uengrz",
        "GF8Ens_Soomf",
        "0wOQAZs5pc--",
        "K5QZ13OEpz2H",
        "lQ7QKXXCp7Bj",
        "448CDAPjqfQr",
        "KSlN3yHqYklG",
        "t6dVpIINYklI",
        "ijmpgYnKYklI",
        "-JiQyfWJYklI",
        "EM7whBJCYoAo",
        "fge-S5ZAYoAp",
        "85gYPyotYoAp",
        "RoGjAbkUYoAp",
        "4Of9eVA-YrdM",
        "iky9q4vBYrdO",
        "F6T5p64dYrdO",
        "y-Ehk30pYrdP",
        "bamQiAODYuh1",
        "QHF8YVU7Yuh3",
        "GwzvFGzlYuh3",
        "qYpmQ266Yuh3",
        "OH-pJp9IphqM",
        "bbFf2-_FphqN",
        "_ouA3fa0phqN",
        "Seke61FWphqN",
        "PIIx-8_IphqN",
        "t27r6nlMphqO",
        "r2jJGEOYphqO",
        "b0JNsNcRphqO",
        "BZR9WyysphqO",
        "jj7wYXLtphqO",
        "eZrbJ2SmphqO",
        "rFu4xreNphqO",
        "YJ55k-q6phqO",
        "gCFgpxoyphqP",
        "OVtJsKN_phqQ",
        "lssrdh5qphqQ",
        "U2RJ9gkRphqQ",
        "1M8mcRywphqQ",
        "tgIPom80phqQ",
        "JMzcOPDDphqR",
        "x-EpHcCOp1ci",
        "X_VqEhTip1ck",
        "8zGJKyg5p1ck",
        "PVzmfK_Ep1ck",
        "n3dbpmDWp1ck",
        "ylSl6qgtp1ck",
        "ZWILFDl5p1ck",
        "M7G43BXep1ck",
        "Ag9LCva-p1cl",
        "E6MkPsBcp1cl",
        "2cELzS2fp1cl",
        "3MPXvC8up1cl",
        "NC_X3p0fY2L0",
        "UV0SzAkaZNRQ",
        "YPEH6qLeZNRQ",
        "q29F0dvdveiT",
        "EXh0U9oCveiU",
        "22aHeOlLveiV",
        "JcMwzZxoAimU",
        "8G2x9gOozGDZ",
        "gCX9965dhzqZ",
        "gIfDvo9L0UH2"
      ]
    },
    "kernelspec": {
      "name": "python3",
      "display_name": "Python 3"
    },
    "language_info": {
      "name": "python"
    }
  },
  "cells": [
    {
      "cell_type": "markdown",
      "source": [
        "# **Project Name**    - Bird Species Observation Analysis\n",
        "\n"
      ],
      "metadata": {
        "id": "vncDsAP0Gaoa"
      }
    },
    {
      "cell_type": "markdown",
      "source": [
        "##### **Project Type**    - EDA(Python) , Data Visulisation(Power BI)\n",
        "##### **Contribution**    - Individual\n",
        "##### **Member Name -**   - Ansh Singh\n",
        "\n"
      ],
      "metadata": {
        "id": "beRrZCGUAJYm"
      }
    },
    {
      "cell_type": "markdown",
      "source": [
        "# **Project Summary -**"
      ],
      "metadata": {
        "id": "FJNUwmbgGyua"
      }
    },
    {
      "cell_type": "markdown",
      "source": [
        "The Bird Species Observation Analysis project focuses on studying avian diversity and behavior across two distinct ecosystems — forests and grasslands — using real-world field data. The primary goal is to derive ecological insights into how various environmental, spatial, and temporal factors affect bird species distribution, observation frequency, and conservation status. This project integrates data science techniques such as data cleaning, exploratory data analysis (EDA), and visualization to uncover patterns that are critical for biodiversity conservation and sustainable land management.\n",
        "\n",
        "\n",
        "---\n",
        "\n",
        "\n",
        "The dataset comprises multi-sheet Excel files representing different administrative units within forest and grassland habitats. Each sheet contains observational records detailing bird species, location identifiers, time stamps, environmental conditions, and observer information. Key fields include Start_Time, End_Time, Scientific_Name, Sex, Distance, and conservation codes such as PIF_Watchlist_Status and NPSTaxonCode. The data preprocessing phase involved merging multiple sheets, standardizing formats, handling missing values using logical mappings (e.g., inferring Site_Name from Plot_Name), converting time fields into proper data types, and aligning taxonomy codes.\n",
        "\n",
        "\n",
        "---\n",
        "\n",
        "\n",
        "Through temporal analysis, the project examined bird activity trends by season, time of day, and year. Spatial analysis identified biodiversity hotspots by grouping observations by Location_Type and Plot_Name. The species analysis section focused on diversity metrics, identification methods (ID_Method), and sex ratio analysis, while environmental condition analysis explored correlations between bird activity and weather variables like temperature, humidity, wind, and disturbance levels. Behavior-based insights included flyover frequencies and observer biases.\n",
        "\n",
        "\n",
        "---\n",
        "\n",
        "\n",
        "Visualizations were implemented using Power BI and optionally Streamlit with Plotly, enabling interactive dashboards with filters by species, habitat type, and observation date. These visualizations made it easier to identify conservation-priority areas and threatened species listed on the PIF Watchlist.\n",
        "\n",
        "\n",
        "---\n",
        "\n",
        "\n",
        "From a business and ecological standpoint, the project serves use cases such as wildlife conservation, eco-tourism development, sustainable agriculture planning, and biodiversity policy support. The findings offer actionable insights to stakeholders ranging from environmental agencies to land-use planners and conservationists."
      ],
      "metadata": {
        "id": "F6v_1wHtG2nS"
      }
    },
    {
      "cell_type": "markdown",
      "source": [
        "# **GitHub Link -**"
      ],
      "metadata": {
        "id": "w6K7xa23Elo4"
      }
    },
    {
      "cell_type": "markdown",
      "source": [
        "https://github.com/Ansh3105/Bird-Species-Observation-Analysis\n"
      ],
      "metadata": {
        "id": "h1o69JH3Eqqn"
      }
    },
    {
      "cell_type": "markdown",
      "source": [
        "# **Problem Statement**\n"
      ],
      "metadata": {
        "id": "yQaldy8SH6Dl"
      }
    },
    {
      "cell_type": "markdown",
      "source": [
        "The project aims to analyze the distribution, diversity, and behavioral patterns of bird species across two distinct ecosystems: forests and grasslands. Bird populations are highly sensitive to environmental changes, and understanding their spatial and temporal presence can offer critical insights into ecosystem health and biodiversity trends.\n",
        "\n",
        "The observational dataset includes multiple parameters such as species name, habitat type, geographic location, observation time, weather conditions, and identification methods. However, due to the dataset's complexity—spread across multiple sheets, containing missing values, inconsistent formats, and varied observation methods—comprehensive analysis requires significant data cleaning and preprocessing.\n",
        "\n",
        "The core objective is to extract meaningful ecological and conservation-related insights by identifying:\n",
        "\n",
        "Patterns in bird activity based on time of day, season, and location\n",
        "\n",
        "The relationship between environmental conditions (e.g., temperature, humidity, sky) and bird presence\n",
        "\n",
        "The effect of habitat type on bird diversity and frequency\n",
        "\n",
        "Conservation priorities by examining at-risk species from watchlists\n",
        "\n",
        "Observer trends and potential reporting biases"
      ],
      "metadata": {
        "id": "DpeJGUA3kjGy"
      }
    },
    {
      "cell_type": "markdown",
      "source": [
        "#### **Define Your Business Objective?**"
      ],
      "metadata": {
        "id": "PH-0ReGfmX4f"
      }
    },
    {
      "cell_type": "markdown",
      "source": [
        "The objective of this project is to analyze bird species observations across forest and grassland ecosystems to identify patterns in biodiversity, habitat preference, and seasonal activity. By examining environmental factors such as temperature, humidity, and sky conditions alongside spatial and temporal distribution data, the project aims to generate actionable insights for wildlife conservation, land management, and policy-making. The findings will help in locating biodiversity hotspots, monitoring at-risk species, and supporting sustainable eco-tourism and agricultural practices, ultimately contributing to informed ecological conservation planning."
      ],
      "metadata": {
        "id": "PhDvGCAqmjP1"
      }
    },
    {
      "cell_type": "markdown",
      "source": [
        "# ***Let's Begin !***"
      ],
      "metadata": {
        "id": "O_i_v8NEhb9l"
      }
    },
    {
      "cell_type": "markdown",
      "source": [
        "## ***1. Know Your Data***"
      ],
      "metadata": {
        "id": "HhfV-JJviCcP"
      }
    },
    {
      "cell_type": "markdown",
      "source": [
        "### Import Libraries"
      ],
      "metadata": {
        "id": "Y3lxredqlCYt"
      }
    },
    {
      "cell_type": "code",
      "source": [
        "# Import Libraries\n",
        "import numpy as np\n",
        "import pandas as pd\n",
        "import matplotlib.pyplot as plt\n",
        "import plotly.express as px\n",
        "import seaborn as sns"
      ],
      "metadata": {
        "id": "M8Vqi-pPk-HR"
      },
      "execution_count": null,
      "outputs": []
    },
    {
      "cell_type": "markdown",
      "source": [
        "### Dataset Loading"
      ],
      "metadata": {
        "id": "3RnN4peoiCZX"
      }
    },
    {
      "cell_type": "code",
      "source": [
        "import pandas as pd\n",
        "\n",
        "# Load both Excel files\n",
        "forest_file = \"Bird_Monitoring_Data_FOREST.XLSX\"\n",
        "grassland_file = \"Bird_Monitoring_Data_GRASSLAND.XLSX\"\n",
        "\n",
        "# Read all sheets from each file\n",
        "forest_data = pd.read_excel(forest_file, sheet_name=None)\n",
        "grassland_data = pd.read_excel(grassland_file, sheet_name=None)\n",
        "\n",
        "# Combine forest sheets\n",
        "forest_df = pd.concat(\n",
        "    [df.assign(Habitat=\"Forest\", Sheet=sheet)\n",
        "     for sheet, df in forest_data.items() if not df.dropna(how='all').empty],\n",
        "    ignore_index=True\n",
        ")\n",
        "\n",
        "# Combine grassland sheets\n",
        "grassland_df = pd.concat(\n",
        "    [df.assign(Habitat=\"Grassland\", Sheet=sheet)\n",
        "     for sheet, df in grassland_data.items() if not df.dropna(how='all').empty],\n",
        "    ignore_index=True\n",
        ")\n",
        "\n",
        "\n",
        "# Combine forest and grassland into a single DataFrame\n",
        "df = pd.concat([forest_df, grassland_df], ignore_index=True)\n",
        "\n",
        "# making sample of df dataset\n",
        "df_sample = pd.concat([forest_df, grassland_df], ignore_index=True)\n",
        "\n"
      ],
      "metadata": {
        "id": "YeB9Cp5hA4uc"
      },
      "execution_count": null,
      "outputs": []
    },
    {
      "cell_type": "markdown",
      "source": [
        "### Dataset First View"
      ],
      "metadata": {
        "id": "x71ZqKXriCWQ"
      }
    },
    {
      "cell_type": "code",
      "source": [
        "# Dataset First Look\n",
        "df"
      ],
      "metadata": {
        "id": "LWNFOSvLl09H"
      },
      "execution_count": null,
      "outputs": []
    },
    {
      "cell_type": "markdown",
      "source": [
        "### Dataset Rows & Columns count"
      ],
      "metadata": {
        "id": "7hBIi_osiCS2"
      }
    },
    {
      "cell_type": "code",
      "source": [
        "# Dataset Rows & Columns count\n",
        "rows, columns =df.shape\n",
        "print(f\"Total Rows: {rows}\")\n",
        "print(f\"Total Columns: {columns}\")\n",
        "\n"
      ],
      "metadata": {
        "id": "Kllu7SJgmLij"
      },
      "execution_count": null,
      "outputs": []
    },
    {
      "cell_type": "markdown",
      "source": [
        "### Dataset Information"
      ],
      "metadata": {
        "id": "JlHwYmJAmNHm"
      }
    },
    {
      "cell_type": "code",
      "source": [
        "# Dataset Info\n",
        "df.info()"
      ],
      "metadata": {
        "id": "e9hRXRi6meOf"
      },
      "execution_count": null,
      "outputs": []
    },
    {
      "cell_type": "markdown",
      "source": [
        "#### Duplicate Values"
      ],
      "metadata": {
        "id": "35m5QtbWiB9F"
      }
    },
    {
      "cell_type": "code",
      "source": [
        "# Dataset Duplicate Value Count\n",
        "print(\"Total Duplicates:\", df.duplicated().sum())\n"
      ],
      "metadata": {
        "id": "1sLdpKYkmox0"
      },
      "execution_count": null,
      "outputs": []
    },
    {
      "cell_type": "markdown",
      "source": [
        "#### Missing Values/Null Values"
      ],
      "metadata": {
        "id": "PoPl-ycgm1ru"
      }
    },
    {
      "cell_type": "code",
      "source": [
        "# Missing Values/Null Values Count\n",
        "df.isnull().sum()\n"
      ],
      "metadata": {
        "id": "GgHWkxvamxVg"
      },
      "execution_count": null,
      "outputs": []
    },
    {
      "cell_type": "markdown",
      "source": [
        "### Visulisation Of Null Values"
      ],
      "metadata": {
        "id": "Ejmv9u1gj3se"
      }
    },
    {
      "cell_type": "code",
      "source": [
        "# Visualizing the missing values\n",
        "df_sample.isnull().sum().sort_values(ascending=False).plot(kind='bar',figsize=(12,5))\n",
        "\n",
        "plt.title(\"Number of Missing Values per Column\")\n",
        "plt.xlabel(\"Column Names\")\n",
        "plt.ylabel(\"Missing Count\")\n",
        "plt.tight_layout()\n",
        "plt.show()\n"
      ],
      "metadata": {
        "id": "3q5wnI3om9sJ"
      },
      "execution_count": null,
      "outputs": []
    },
    {
      "cell_type": "markdown",
      "source": [
        "### What did you know about your dataset?"
      ],
      "metadata": {
        "id": "H0kj-8xxnORC"
      }
    },
    {
      "cell_type": "markdown",
      "source": [
        "Dataset Overview\n",
        "Theme → Bird species observation data collected in forest and grassland ecosystems.\n",
        "\n",
        "Purpose → To study biodiversity patterns, species behavior, environmental influences, and conservation priorities.\n",
        "\n",
        "Structure → Multiple sheets in Excel, each sheet corresponding to an Administrative Unit (e.g., ANTI, CATO, CHOH, etc.).\n",
        "\n",
        "Combined into one dataframe (df) in your Colab environment for analysis.\n",
        "\n",
        "\n",
        "\n",
        "---\n",
        "\n",
        "\n",
        "\n",
        "Key Columns\n",
        "Location & Habitat Information\n",
        "\n",
        "Admin_Unit_Code — Code for the administrative area (e.g., \"ANTI\").\n",
        "\n",
        "Sub_Unit_Code — Further classification inside the admin unit.\n",
        "\n",
        "Site_Name — Name of the specific observation site.\n",
        "\n",
        "Plot_Name — Unique plot identifier.\n",
        "\n",
        "Location_Type — Habitat type (Forest / Grassland).\n",
        "\n",
        "Time & Visit Information\n",
        "\n",
        "Year, Date — Observation year & date.\n",
        "\n",
        "Start_Time, End_Time — Observation session times.\n",
        "\n",
        "Visit — Visit number for that plot.\n",
        "\n",
        "Bird Identification & Observation\n",
        "\n",
        "Scientific_Name — Scientific name of the species.\n",
        "\n",
        "Common_Name — Common bird name.\n",
        "\n",
        "Sex — Male, Female, Undetermined.\n",
        "\n",
        "ID_Method — Method used (Singing, Calling, Visualization, etc.).\n",
        "\n",
        "Interval_Length — Observation time interval (e.g., 0–2.5 min).\n",
        "\n",
        "Flyover_Observed — Whether bird was seen flying overhead.\n",
        "\n",
        "Environmental Conditions\n",
        "\n",
        "Temperature, Humidity — Weather conditions during observation.\n",
        "\n",
        "Sky, Wind — Sky and wind conditions.\n",
        "\n",
        "Disturbance — Any disturbance affecting observation.\n",
        "\n",
        "Conservation Indicators\n",
        "\n",
        "PIF_Watchlist_Status — National conservation priority.\n",
        "\n",
        "Regional_Stewardship_Status — Regional conservation priority.\n",
        "\n",
        "AOU_Code — Standardized bird species code.\n",
        "\n",
        "Observation Counts\n",
        "\n",
        "Initial_Three_Min_Cnt — Birds observed in the first 3 minutes.\n",
        "\n",
        "\n",
        "\n",
        "---\n",
        "\n",
        "\n",
        "Possible Analyses\n",
        "Biodiversity Hotspots → Which plots/habitats have the most unique species.\n",
        "\n",
        "Species Behavior → Activity patterns, sex ratios, flyover trends.\n",
        "\n",
        "Environmental Influence → How weather, disturbance, and location affect sightings.\n",
        "\n",
        "Conservation Focus → Which species are at risk and where they are found most.\n",
        "\n",
        "Observer Bias → Whether some observers dominate data collection.\n",
        "\n",
        "\n"
      ],
      "metadata": {
        "id": "gfoNAAC-nUe_"
      }
    },
    {
      "cell_type": "markdown",
      "source": [
        "## ***2. Understanding Your Variables***"
      ],
      "metadata": {
        "id": "nA9Y7ga8ng1Z"
      }
    },
    {
      "cell_type": "code",
      "source": [
        "# Dataset Columns\n",
        "df.columns"
      ],
      "metadata": {
        "id": "j7xfkqrt5Ag5"
      },
      "execution_count": null,
      "outputs": []
    },
    {
      "cell_type": "code",
      "source": [
        "# Dataset Describe\n",
        "# Generating Descriptive Statisitcs For Numerical Data In Dataset\n",
        "df.describe()"
      ],
      "metadata": {
        "id": "DnOaZdaE5Q5t"
      },
      "execution_count": null,
      "outputs": []
    },
    {
      "cell_type": "markdown",
      "source": [
        "### Variables Description"
      ],
      "metadata": {
        "id": "PBTbrJXOngz2"
      }
    },
    {
      "cell_type": "markdown",
      "source": [
        "Admin_Unit_Code: The code for the administrative unit (e.g., \"ANTI\") where the observation was conducted.\n",
        "\n",
        "Sub_Unit_Code: The sub-unit within the administrative unit for further classification.\n",
        "\n",
        "Site_Name: The name of the specific observation site within the unit.\n",
        "\n",
        "Plot_Name: A unique identifier for the specific plot where observations were recorded.\n",
        "\n",
        "Location_Type: The habitat type of the observation area (e.g., \"Forest\").\n",
        "\n",
        "Year: The year in which the observation took place.\n",
        "\n",
        "Date: The exact date of the observation.\n",
        "\n",
        "Start_Time: The start time of the observation session.\n",
        "\n",
        "End_Time: The end time of the observation session.\n",
        "\n",
        "Observer: The individual who conducted the observation.\n",
        "\n",
        "Visit: The count of visits made to the same observation site or plot.\n",
        "\n",
        "Interval_Length: The duration of the observation interval (e.g., \"0-2.5 min\").\n",
        "\n",
        "ID_Method: The method used to identify the species (e.g., \"Singing,\" \"Calling,\" \"Visualization\").\n",
        "\n",
        "Distance: The distance of the observed species from the observer (e.g., \"<= 50 Meters\").\n",
        "\n",
        "Flyover_Observed: Indicates whether the bird was observed flying overhead (TRUE/FALSE).\n",
        "\n",
        "Sex: The sex of the observed bird (e.g., Male, Female, Undetermined).\n",
        "Common_Name: The common name of the observed bird species (e.g., \"Eastern Towhee\").\n",
        "\n",
        "Scientific_Name: The scientific name of the observed bird species (e.g., Pipilo erythrophthalmus).\n",
        "\n",
        "AcceptedTSN: The Taxonomic Serial Number for the observed species.\n",
        "\n",
        "NPSTaxonCode: A unique code assigned to the taxon of the species.\n",
        "\n",
        "AOU_Code: The American Ornithological Union code for the species.\n",
        "\n",
        "PIF_Watchlist_Status: Indicates whether the species is on the Partners in Flight Watchlist (e.g., \"TRUE\" for at-risk species).\n",
        "\n",
        "Regional_Stewardship_Status: Denotes the conservation priority within the region (TRUE/FALSE).\n",
        "\n",
        "Temperature: The temperature recorded at the time of observation (in degrees).\n",
        "\n",
        "Humidity: The humidity percentage recorded at the time of observation.\n",
        "\n",
        "Sky: The sky condition during the observation (e.g., \"Cloudy/Overcast\").\n",
        "\n",
        "Wind: The wind condition (e.g., \"Calm (< 1 mph) smoke rises vertically\").\n",
        "\n",
        "Disturbance: Notes any disturbances that could affect the observation (e.g., \"No effect on count\").\n",
        "\n",
        "Initial_Three_Min_Cnt: The count of the species observed in the first three minutes of the session.\n",
        "\n"
      ],
      "metadata": {
        "id": "aJV4KIxSnxay"
      }
    },
    {
      "cell_type": "markdown",
      "source": [
        "### Check Unique Values for each variable."
      ],
      "metadata": {
        "id": "u3PMJOP6ngxN"
      }
    },
    {
      "cell_type": "code",
      "source": [
        "# Check Unique Values for each variable.\n",
        "df.nunique()\n"
      ],
      "metadata": {
        "id": "zms12Yq5n-jE"
      },
      "execution_count": null,
      "outputs": []
    },
    {
      "cell_type": "markdown",
      "source": [
        "## 3. ***Data Wrangling***"
      ],
      "metadata": {
        "id": "dauF4eBmngu3"
      }
    },
    {
      "cell_type": "markdown",
      "source": [
        "### Data Wrangling Code"
      ],
      "metadata": {
        "id": "bKJF3rekwFvQ"
      }
    },
    {
      "cell_type": "code",
      "source": [
        "# replacing sub_unit_code NA values with \"UNKNOWN\"\n",
        "df['Sub_Unit_Code'] = df['Sub_Unit_Code'].fillna(\"UNKNOWN\")\n",
        "\n",
        "# replacing ID_Column nan value with mode of the column\n",
        "value = df['ID_Method'].mode()[0]\n",
        "df['ID_Method'] = df['ID_Method'].fillna(value)\n",
        "\n",
        "#replacing Sex column nan values with mode of the column\n",
        "value = df['Sex'].mode()[0]\n",
        "df['Sex'] = df['Sex'].fillna(value)\n",
        "\n",
        "#replacing distance column nan values with mode of the column\n",
        "value = df['Distance'].mode()[0]\n",
        "df['Distance'] = df['Distance'].fillna(value)\n",
        "\n",
        "# converting NPSTaxonCode from float to object\n",
        "df['NPSTaxonCode'] = df['NPSTaxonCode'].astype(str)\n",
        "\n",
        "# converting AcceptedTSN from float to object\n",
        "df['AcceptedTSN'] = df['AcceptedTSN'].astype(str)\n",
        "\n",
        "# replacing na values in NPSTaxonCode column by mapping to Scientific_Name column\n",
        "mapping = df.dropna(subset=['NPSTaxonCode']).drop_duplicates(subset=['Scientific_Name'])[['Scientific_Name', 'NPSTaxonCode']]\n",
        "code_map = dict(zip(mapping['Scientific_Name'], mapping['NPSTaxonCode']))\n",
        "df['NPSTaxonCode'] = df.apply(\n",
        "    lambda row: code_map.get(row['Scientific_Name'], row['NPSTaxonCode']),\n",
        "    axis=1)\n",
        "\n",
        "# replacing na values in AcceptedTSN column by mapping to Scientific_Name column\n",
        "mapping = df.dropna(subset=['AcceptedTSN']).drop_duplicates(subset=['Scientific_Name'])[['Scientific_Name', 'AcceptedTSN']]\n",
        "code_map = dict(zip(mapping['Scientific_Name'], mapping['AcceptedTSN']))\n",
        "df['AcceptedTSN'] = df.apply(\n",
        "    lambda row: code_map.get(row['Scientific_Name'], row['AcceptedTSN']),\n",
        "    axis=1)\n",
        "\n",
        "# replacing na values in Site_Name column by mapping to Scientific_Name column\n",
        "mapping = df.dropna(subset=['Site_Name']).drop_duplicates(subset=['Scientific_Name'])[['Scientific_Name', 'Site_Name']]\n",
        "code_map = dict(zip(mapping['Scientific_Name'], mapping['Site_Name']))\n",
        "df['Site_Name'] = df.apply(\n",
        "    lambda row: code_map.get(row['Scientific_Name'], row['Site_Name']),\n",
        "    axis=1)\n",
        "\n",
        "\n",
        "# replacing na values in Site_Name column by mapping to Plot_Name column\n",
        "mapping = df.dropna(subset=['Site_Name']).drop_duplicates(subset=['Plot_Name'])[['Plot_Name', 'Site_Name']]\n",
        "code_map = dict(zip(mapping['Plot_Name'], mapping['Site_Name']))\n",
        "df['Site_Name'] = df.apply(\n",
        "    lambda row: code_map.get(row['Plot_Name'], row['Site_Name']),\n",
        "    axis=1)\n",
        "\n",
        "\n",
        "\n",
        "\n",
        "\n",
        "\n",
        "\n",
        "\n",
        "\n",
        "\n",
        "\n",
        "\n",
        "\n",
        "\n"
      ],
      "metadata": {
        "id": "wk-9a2fpoLcV"
      },
      "execution_count": null,
      "outputs": []
    },
    {
      "cell_type": "markdown",
      "source": [
        "### REMOVING DUPLICATES"
      ],
      "metadata": {
        "id": "qHlswYHLXx6U"
      }
    },
    {
      "cell_type": "code",
      "source": [
        "df= df.drop_duplicates()"
      ],
      "metadata": {
        "id": "56GFu6SAXxRc"
      },
      "execution_count": null,
      "outputs": []
    },
    {
      "cell_type": "markdown",
      "source": [
        "### Handling Outliers for temperature and humidity column\n"
      ],
      "metadata": {
        "id": "ovyrnuPOt7hB"
      }
    },
    {
      "cell_type": "code",
      "source": [
        "cols = ['Temperature', 'Humidity']\n",
        "for col in cols:\n",
        "    plt.figure(figsize=(6, 3))\n",
        "    sns.boxplot(x=df[col])\n",
        "    plt.title(f'Boxplot for {col}')\n",
        "    plt.show()\n",
        "\n",
        "# Calculate Q1, Q3, and IQR\n",
        "Q1 = df[cols].quantile(0.25)\n",
        "Q3 = df[cols].quantile(0.75)\n",
        "IQR = Q3 - Q1\n",
        "\n",
        "# Filter the DataFrame\n",
        "df = df[~((df[cols] < (Q1 - 1.5 * IQR)) | (df[cols] > (Q3 + 1.5 * IQR))).any(axis=1)]\n",
        "\n",
        "print(f\"After removing outliers: {df.shape} \")"
      ],
      "metadata": {
        "id": "HEk38awjt7CJ"
      },
      "execution_count": null,
      "outputs": []
    },
    {
      "cell_type": "markdown",
      "source": [
        "### Dropping Columns\n"
      ],
      "metadata": {
        "id": "R6Y_O2qP6pCv"
      }
    },
    {
      "cell_type": "code",
      "source": [
        "df.drop(columns='Sheet',inplace=True,axis=1)"
      ],
      "metadata": {
        "id": "MzsgSqTF6uqq"
      },
      "execution_count": null,
      "outputs": []
    },
    {
      "cell_type": "markdown",
      "source": [
        "### What all manipulations have you done and insights you found?"
      ],
      "metadata": {
        "id": "MSa1f5Uengrz"
      }
    },
    {
      "cell_type": "markdown",
      "source": [
        "Missing values in the Sub_Unit_Code column were replaced with the string\n",
        "\"UNKNOWN\" to ensure consistent categorical representation for downstream analysis.\n",
        "\n",
        "\n",
        "---\n",
        "\n",
        "\n",
        "The ID_Method column's missing values were filled using the mode of the column, ensuring that the most common identification method was used for imputation.\n",
        "\n",
        "\n",
        "---\n",
        "\n",
        "\n",
        "The Sex column's missing values were also filled using the mode, helping maintain logical consistency in gender-based analysis of observed species.\n",
        "\n",
        "\n",
        "---\n",
        "\n",
        "\n",
        "Missing values in the Distance column were filled using the most frequent distance range (mode), standardizing the observation distance metric.\n",
        "\n",
        "\n",
        "---\n",
        "\n",
        "\n",
        "The NPSTaxonCode and AcceptedTSN columns, which originally contained float-type values, were converted to string (object) data types to preserve their identity as categorical codes and avoid unintended numerical interpretations.\n",
        "\n",
        "\n",
        "---\n",
        "\n",
        "\n",
        "Missing values in the NPSTaxonCode column were filled by creating a mapping between Scientific_Name and NPSTaxonCode, based on rows where the NPSTaxonCode was already present. This mapping was then used to impute missing codes wherever a matching scientific name existed.\n",
        "\n",
        "\n",
        "---\n",
        "\n",
        "\n",
        "Similarly, missing values in the AcceptedTSN column were filled using a mapping from Scientific_Name to AcceptedTSN, ensuring taxonomic consistency based on species identification.\n",
        "\n",
        "\n",
        "---\n",
        "\n",
        "\n",
        "The Site_Name column was first filled using a mapping from Scientific_Name, leveraging known relationships between species and their recorded sites to infer missing values.\n",
        "\n",
        "\n",
        "---\n",
        "\n",
        "\n",
        "A second mapping for the Site_Name column was created using Plot_Name, where available Site_Name values were mapped to their corresponding plots. This mapping was applied to fill any remaining missing entries in Site_Name.\n",
        "\n",
        "\n",
        "---\n",
        "\n",
        "Outliers for the temperature and humidity column were calculated and plotted using box plot then removed\n",
        "\n",
        "\n",
        "---\n",
        "Finally, the Sheet column, which was added during the merging of multiple Excel sheets, was dropped from the DataFrame as it was no longer needed after consolidation.\n",
        "\n"
      ],
      "metadata": {
        "id": "LbyXE7I1olp8"
      }
    },
    {
      "cell_type": "markdown",
      "source": [
        "## ***4. Data Vizualization, Storytelling & Experimenting with charts : Understand the relationships between variables***"
      ],
      "metadata": {
        "id": "GF8Ens_Soomf"
      }
    },
    {
      "cell_type": "markdown",
      "source": [
        "### TEMPORAL ANALYSIS"
      ],
      "metadata": {
        "id": "qzFz237RweW-"
      }
    },
    {
      "cell_type": "markdown",
      "source": [
        "\n",
        "\n",
        "#### Chart - 1 SEASONAL TRENDS"
      ],
      "metadata": {
        "id": "0wOQAZs5pc--"
      }
    },
    {
      "cell_type": "code",
      "source": [
        "# Convert Date column to datetime\n",
        "df['Date'] = pd.to_datetime(df['Date'], errors='coerce')\n",
        "\n",
        "# Extract Year and Month\n",
        "df['Year'] = df['Date'].dt.year\n",
        "df['Month'] = df['Date'].dt.month\n",
        "\n",
        "# Define seasons (Northern Hemisphere)\n",
        "def get_season(month):\n",
        "    if month in [12, 1, 2]:\n",
        "        return 'Winter'\n",
        "    elif month in [3, 4, 5]:\n",
        "        return 'Spring'\n",
        "    elif month in [6, 7, 8]:\n",
        "        return 'Summer'\n",
        "    else:\n",
        "        return 'Autumn'\n",
        "\n",
        "df['Season'] = df['Month'].apply(get_season)\n",
        "\n",
        "# Count sightings by season\n",
        "seasonal_counts = df.groupby(['Year', 'Season']).size().reset_index(name='Sightings')\n",
        "\n",
        "plt.figure(figsize=(8,5))\n",
        "sns.countplot(x='Season', data=df, order=['Winter', 'Spring', 'Summer', 'Autumn'])\n",
        "plt.title('Bird Sightings by Season')\n",
        "plt.show()"
      ],
      "metadata": {
        "id": "7v_ESjsspbW7"
      },
      "execution_count": null,
      "outputs": []
    },
    {
      "cell_type": "markdown",
      "source": [
        "##### 1. Why did you pick the specific chart?"
      ],
      "metadata": {
        "id": "K5QZ13OEpz2H"
      }
    },
    {
      "cell_type": "markdown",
      "source": [
        "Shows how bird sightings vary across Winter, Spring, Summer, Autumn.\n",
        "\n",
        "Helps identify peak activity seasons and low-activity periods."
      ],
      "metadata": {
        "id": "XESiWehPqBRc"
      }
    },
    {
      "cell_type": "markdown",
      "source": [
        "##### 2. What is/are the insight(s) found from the chart?"
      ],
      "metadata": {
        "id": "lQ7QKXXCp7Bj"
      }
    },
    {
      "cell_type": "markdown",
      "source": [
        "If Spring and Summer have more sightings → could mean migratory species are arriving.\n",
        "\n",
        "If Winter has lower sightings → might indicate birds move to warmer locations."
      ],
      "metadata": {
        "id": "C_j1G7yiqdRP"
      }
    },
    {
      "cell_type": "markdown",
      "source": [
        "##### 3. Will the gained insights help creating a positive business impact?\n",
        "Are there any insights that lead to negative growth? Justify with specific reason."
      ],
      "metadata": {
        "id": "448CDAPjqfQr"
      }
    },
    {
      "cell_type": "markdown",
      "source": [
        "Clear pattern recognition for non-technical audiences.\n",
        "\n",
        "Supports resource planning for bird monitoring teams."
      ],
      "metadata": {
        "id": "3cspy4FjqxJW"
      }
    },
    {
      "cell_type": "markdown",
      "source": [
        "#### Chart - 2 sightings per week days"
      ],
      "metadata": {
        "id": "KSlN3yHqYklG"
      }
    },
    {
      "cell_type": "code",
      "source": [
        "df['DayOfWeek'] = df['Date'].dt.day_name()\n",
        "\n",
        "\n",
        "plt.figure(figsize=(8,5))\n",
        "sns.countplot(x='DayOfWeek', data=df, order=['Monday','Tuesday','Wednesday','Thursday','Friday','Saturday','Sunday'], color='skyblue')\n",
        "plt.title('Bird Sightings by Day of Week')\n",
        "plt.show()\n"
      ],
      "metadata": {
        "id": "R4YgtaqtYklH"
      },
      "execution_count": null,
      "outputs": []
    },
    {
      "cell_type": "markdown",
      "source": [
        "##### 1. Why did you pick the specific chart?"
      ],
      "metadata": {
        "id": "t6dVpIINYklI"
      }
    },
    {
      "cell_type": "markdown",
      "source": [
        "It helps identify patterns or trends in bird observations based on the day of the week.\n",
        "\n"
      ],
      "metadata": {
        "id": "5aaW0BYyYklI"
      }
    },
    {
      "cell_type": "markdown",
      "source": [
        "##### 2. What is/are the insight(s) found from the chart?"
      ],
      "metadata": {
        "id": "ijmpgYnKYklI"
      }
    },
    {
      "cell_type": "markdown",
      "source": [
        "\n",
        "\n",
        "Useful to see if certain days consistently record higher or lower biodiversity — could be due to weather, human activity, or survey scheduling."
      ],
      "metadata": {
        "id": "PSx9atu2YklI"
      }
    },
    {
      "cell_type": "markdown",
      "source": [
        "##### 3. Will the gained insights help creating a positive business impact?\n",
        "Are there any insights that lead to negative growth? Justify with specific reason."
      ],
      "metadata": {
        "id": "-JiQyfWJYklI"
      }
    },
    {
      "cell_type": "markdown",
      "source": [
        "lear visual — easy to interpret even for non-technical audiences.\n",
        "\n",
        "Identifies survey bias — shows if sampling is uneven across the week.\n",
        "\n",
        "Actionable — if certain days are low in data, future monitoring can be planned to balance it."
      ],
      "metadata": {
        "id": "BcBbebzrYklV"
      }
    },
    {
      "cell_type": "markdown",
      "source": [
        "#### Chart - 3 Total Bird Count by Location type"
      ],
      "metadata": {
        "id": "EM7whBJCYoAo"
      }
    },
    {
      "cell_type": "code",
      "source": [
        "# Group data by Location_Type and count observations\n",
        "location_insights = df.groupby(\"Location_Type\").size().reset_index(name=\"Observation_Count\")\n",
        "\n",
        "# Sort by highest observations (to find biodiversity hotspots)\n",
        "location_insights = location_insights.sort_values(by=\"Observation_Count\", ascending=False)\n",
        "\n",
        "\n",
        "plt.figure(figsize=(8,5))\n",
        "plt.bar(location_insights[\"Location_Type\"], location_insights[\"Observation_Count\"], color='green')\n",
        "plt.xticks(rotation=45)\n",
        "plt.xlabel(\"Location Type\")\n",
        "plt.ylabel(\"Number of Observations\")\n",
        "plt.title(\"Biodiversity Hotspots by Location Type\")\n",
        "plt.show()\n",
        "\n"
      ],
      "metadata": {
        "id": "t6GMdE67YoAp"
      },
      "execution_count": null,
      "outputs": []
    },
    {
      "cell_type": "markdown",
      "source": [
        "##### 1. Why did you pick the specific chart?"
      ],
      "metadata": {
        "id": "fge-S5ZAYoAp"
      }
    },
    {
      "cell_type": "markdown",
      "source": [
        "lear biodiversity comparison: Grouping by Location_Type lets you see which habitats (e.g., Grassland, Wetland, Forest) have higher species counts"
      ],
      "metadata": {
        "id": "5dBItgRVYoAp"
      }
    },
    {
      "cell_type": "markdown",
      "source": [
        "##### 2. What is/are the insight(s) found from the chart?"
      ],
      "metadata": {
        "id": "85gYPyotYoAp"
      }
    },
    {
      "cell_type": "markdown",
      "source": [
        "Biodiversity hotspots: Identify habitats with the highest species diversity or abundance.\n",
        "\n",
        "Habitat specialization: Spot species that appear only in specific locations (e.g., certain birds only in wetlands)."
      ],
      "metadata": {
        "id": "4jstXR6OYoAp"
      }
    },
    {
      "cell_type": "markdown",
      "source": [
        "##### 3. Will the gained insights help creating a positive business impact?\n",
        "Are there any insights that lead to negative growth? Justify with specific reason."
      ],
      "metadata": {
        "id": "RoGjAbkUYoAp"
      }
    },
    {
      "cell_type": "markdown",
      "source": [
        "Simplifies large datasets — turns hundreds/thousands of observations into a clear picture.\n",
        "\n",
        "Action-oriented — you can prioritize habitats for conservation funding or field visits.\n",
        "\n",
        "Flexible — works with both species count and individual bird sightings."
      ],
      "metadata": {
        "id": "zfJ8IqMcYoAp"
      }
    },
    {
      "cell_type": "markdown",
      "source": [
        "### SPATIAL ANALYSIS"
      ],
      "metadata": {
        "id": "_baJCbT19OHL"
      }
    },
    {
      "cell_type": "markdown",
      "source": [
        "#### Chart - 4 % of unique bird count by location type"
      ],
      "metadata": {
        "id": "4Of9eVA-YrdM"
      }
    },
    {
      "cell_type": "code",
      "source": [
        "# Group data by Location_Type and count unique species\n",
        "location_species = df.groupby(\"Location_Type\")[\"Scientific_Name\"].nunique().reset_index(name=\"Unique_Species_Count\")\n",
        "\n",
        "# Sort by highest unique species\n",
        "location_species = location_species.sort_values(by=\"Unique_Species_Count\", ascending=False)\n",
        "\n",
        "# Plot as pie chart\n",
        "plt.figure(figsize=(7, 7))\n",
        "plt.pie(\n",
        "    location_species[\"Unique_Species_Count\"],\n",
        "    labels=location_species[\"Location_Type\"],\n",
        "    autopct='%1.1f%%',\n",
        "    startangle=90\n",
        ")\n",
        "plt.title(\"Biodiversity Hotspots by Location Type (Unique Species)\")\n",
        "plt.axis('equal')  # Equal aspect ratio ensures the pie is a circle\n",
        "plt.show()\n"
      ],
      "metadata": {
        "id": "irlUoxc8YrdO"
      },
      "execution_count": null,
      "outputs": []
    },
    {
      "cell_type": "markdown",
      "source": [
        "##### 1. Why did you pick the specific chart?"
      ],
      "metadata": {
        "id": "iky9q4vBYrdO"
      }
    },
    {
      "cell_type": "markdown",
      "source": [
        "A pie chart is effective here because we are comparing proportions of unique species among different location types. It visually communicates how biodiversity is distributed without requiring the viewer to read exact numbers."
      ],
      "metadata": {
        "id": "aJRCwT6DYrdO"
      }
    },
    {
      "cell_type": "markdown",
      "source": [
        "##### 2. What is/are the insight(s) found from the chart?"
      ],
      "metadata": {
        "id": "F6T5p64dYrdO"
      }
    },
    {
      "cell_type": "markdown",
      "source": [
        "The dominance of one or two location types in the chart can indicate priority conservation zones."
      ],
      "metadata": {
        "id": "Xx8WAJvtYrdO"
      }
    },
    {
      "cell_type": "markdown",
      "source": [
        "##### 3. Will the gained insights help creating a positive business impact?\n",
        "easy to interpret at a glance, even for non-technical audiences.\n",
        "\n",
        "Highlights relative importance of each location type for biodiversity."
      ],
      "metadata": {
        "id": "y-Ehk30pYrdP"
      }
    },
    {
      "cell_type": "markdown",
      "source": [
        "#### Chart - 5   top 10 plot names by unique species count"
      ],
      "metadata": {
        "id": "bamQiAODYuh1"
      }
    },
    {
      "cell_type": "code",
      "source": [
        "# Group and get unique species count per plot\n",
        "plot_species_count = (\n",
        "    df.groupby('Plot_Name')['Scientific_Name']\n",
        "      .nunique()\n",
        "      .reset_index(name='Unique_Species_Count')\n",
        ")\n",
        "\n",
        "# Get top 10 plots\n",
        "top_n = 10\n",
        "plot_species_count = plot_species_count.sort_values(\n",
        "    by='Unique_Species_Count', ascending=False\n",
        ").head(top_n)\n",
        "\n",
        "# Plot as horizontal bar chart\n",
        "plt.figure(figsize=(10, 6))\n",
        "sns.barplot(\n",
        "    data=plot_species_count,\n",
        "    y='Plot_Name',\n",
        "    x='Unique_Species_Count',\n",
        "    palette='viridis'\n",
        ")\n",
        "plt.title(f'Top {top_n} Plots by Unique Bird Species', fontsize=16)\n",
        "plt.xlabel('Unique Species Count')\n",
        "plt.ylabel('Plot Name')\n",
        "\n"
      ],
      "metadata": {
        "id": "TIJwrbroYuh3"
      },
      "execution_count": null,
      "outputs": []
    },
    {
      "cell_type": "markdown",
      "source": [
        "##### 1. Why did you pick the specific chart?"
      ],
      "metadata": {
        "id": "QHF8YVU7Yuh3"
      }
    },
    {
      "cell_type": "markdown",
      "source": [
        "Simplifies large data → Instead of showing all plots (which creates clutter), it focuses only on the top 10 with the most species.\n",
        "\n",
        "Horizontal orientation → Makes long plot names readable without overlapping text."
      ],
      "metadata": {
        "id": "dcxuIMRPYuh3"
      }
    },
    {
      "cell_type": "markdown",
      "source": [
        "##### 2. What is/are the insight(s) found from the chart?"
      ],
      "metadata": {
        "id": "GwzvFGzlYuh3"
      }
    },
    {
      "cell_type": "markdown",
      "source": [
        "Identify biodiversity hotspots → You can instantly see which plots have the highest bird diversity.\n",
        "\n",
        "Guide conservation priorities → Plots at the top may be priority zones for habitat protection.\n",
        "\n",
        "Ecotourism & research focus → Areas with higher diversity could be targeted for bird-watching activities or further ecological study.\n"
      ],
      "metadata": {
        "id": "uyqkiB8YYuh3"
      }
    },
    {
      "cell_type": "markdown",
      "source": [
        "##### 3. Will the gained insights help creating a positive business impact?\n",
        "Are there any insights that lead to negative growth? Justify with specific reason."
      ],
      "metadata": {
        "id": "qYpmQ266Yuh3"
      }
    },
    {
      "cell_type": "markdown",
      "source": [
        "Focus on what matters → Only shows the most significant plots, avoiding noise.\n",
        "\n",
        "Readability → Names are clear, counts are easy to interpret.\n",
        "\n",
        "Comparability → Side-by-side bar lengths make differences obvious at a glance."
      ],
      "metadata": {
        "id": "_WtzZ_hCYuh4"
      }
    },
    {
      "cell_type": "markdown",
      "source": [
        "### SPECIES ANALYSIS"
      ],
      "metadata": {
        "id": "ax9QHKceDwjx"
      }
    },
    {
      "cell_type": "markdown",
      "source": [
        "#### Chart - 6 Activity Pattern"
      ],
      "metadata": {
        "id": "OH-pJp9IphqM"
      }
    },
    {
      "cell_type": "code",
      "source": [
        "# Count observations by Interval_Length and ID_Method\n",
        "activity_patterns = (\n",
        "    df.groupby(['Interval_Length', 'ID_Method'])\n",
        "      .size()\n",
        "      .reset_index(name='Observation_Count')\n",
        ")\n",
        "\n",
        "# Sort for plotting\n",
        "activity_patterns = activity_patterns.sort_values('Observation_Count', ascending=False)\n",
        "\n",
        "# Plot heatmap for visual clarity\n",
        "activity_pivot = activity_patterns.pivot(index='ID_Method', columns='Interval_Length', values='Observation_Count')\n",
        "\n",
        "plt.figure(figsize=(10, 6))\n",
        "sns.heatmap(activity_pivot, annot=True, fmt='.0f', cmap='YlGnBu')\n",
        "plt.title('Bird Activity Patterns by Interval Length and ID Method', fontsize=16)\n",
        "plt.xlabel('Interval Length')\n",
        "plt.ylabel('ID Method')\n",
        "plt.show()\n"
      ],
      "metadata": {
        "id": "kuRf4wtuphqN"
      },
      "execution_count": null,
      "outputs": []
    },
    {
      "cell_type": "markdown",
      "source": [
        "##### 1. Why did you pick the specific chart?"
      ],
      "metadata": {
        "id": "bbFf2-_FphqN"
      }
    },
    {
      "cell_type": "markdown",
      "source": [
        "Makes it easy to see both the ID method and observation interval in one view.\n",
        "\n",
        "Color intensity quickly tells you which combinations are most common.\n",
        "\n"
      ],
      "metadata": {
        "id": "loh7H2nzphqN"
      }
    },
    {
      "cell_type": "markdown",
      "source": [
        "##### 2. What is/are the insight(s) found from the chart?"
      ],
      "metadata": {
        "id": "_ouA3fa0phqN"
      }
    },
    {
      "cell_type": "markdown",
      "source": [
        "Most common ID method — e.g., if “Singing” has the darkest color, birds are most often identified by sound.\n",
        "\n",
        "Best observation interval — e.g., if 0–2.5 minutes yields more sightings, shorter intervals may be more effective."
      ],
      "metadata": {
        "id": "VECbqPI7phqN"
      }
    },
    {
      "cell_type": "markdown",
      "source": [
        "##### 3. Will the gained insights help creating a positive business impact?\n",
        "Are there any insights that lead to negative growth? Justify with specific reason."
      ],
      "metadata": {
        "id": "Seke61FWphqN"
      }
    },
    {
      "cell_type": "markdown",
      "source": [
        "Dual-Dimension Insight\n",
        "\n",
        "Unlike a plain bar chart, this shows two factors together (time interval and identification method), which helps spot patterns that wouldn’t be visible in a one-dimensional view.\n",
        "\n",
        "Quick Visual Impact\n",
        "\n",
        "The heatmap color intensity lets you see the “hot spots” instantly without reading numbers — ideal for presentations or quick decision-making."
      ],
      "metadata": {
        "id": "DW4_bGpfphqN"
      }
    },
    {
      "cell_type": "markdown",
      "source": [
        "#### Chart - 7 SEX Ratio"
      ],
      "metadata": {
        "id": "PIIx-8_IphqN"
      }
    },
    {
      "cell_type": "code",
      "source": [
        "# Filter only Male and Female\n",
        "sex_df = df[df['Sex'].isin(['Male', 'Female'])]\n",
        "\n",
        "# Count observations\n",
        "sex_counts = (\n",
        "    sex_df.groupby(['Scientific_Name', 'Sex'])\n",
        "          .size()\n",
        "          .reset_index(name='Count')\n",
        ")\n",
        "\n",
        "# Get top 10 species by total count\n",
        "top_species = (\n",
        "    sex_counts.groupby('Scientific_Name')['Count']\n",
        "              .sum()\n",
        "              .nlargest(10)\n",
        "              .index\n",
        ")\n",
        "sex_counts_top = sex_counts[sex_counts['Scientific_Name'].isin(top_species)]\n",
        "\n",
        "# Plot stacked bar chart\n",
        "plt.figure(figsize=(10, 6))\n",
        "sns.barplot(\n",
        "    data=sex_counts_top,\n",
        "    x='Scientific_Name',\n",
        "    y='Count',\n",
        "    hue='Sex',\n",
        "    palette='coolwarm'\n",
        ")\n",
        "plt.xticks(rotation=45, ha='right')\n",
        "plt.title('Male vs Female Counts (Top 10 Species)', fontsize=16)\n",
        "plt.xlabel('Species (Scientific Name)')\n",
        "plt.ylabel('Count')\n",
        "plt.tight_layout()\n",
        "plt.show()\n"
      ],
      "metadata": {
        "id": "lqAIGUfyphqO"
      },
      "execution_count": null,
      "outputs": []
    },
    {
      "cell_type": "markdown",
      "source": [
        "##### 1. Why did you pick the specific chart?"
      ],
      "metadata": {
        "id": "t27r6nlMphqO"
      }
    },
    {
      "cell_type": "markdown",
      "source": [
        "Clear comparison → Shows male vs. female counts side-by-side for each species.\n",
        "\n",
        "No math needed → Viewers instantly see which sex dominates for each species without calculating ratios.\n",
        "\n",
        "Reduced clutter → Only the top 10 most observed species are shown, making it easier to interpret."
      ],
      "metadata": {
        "id": "iv6ro40sphqO"
      }
    },
    {
      "cell_type": "markdown",
      "source": [
        "##### 2. What is/are the insight(s) found from the chart?"
      ],
      "metadata": {
        "id": "r2jJGEOYphqO"
      }
    },
    {
      "cell_type": "markdown",
      "source": [
        "Sex dominance patterns\n",
        "\n",
        "If males dominate in most species, it may be due to behavioral factors (e.g., males sing more).\n",
        "\n",
        "Species-specific trends\n",
        "\n",
        "Some species might have balanced counts, others heavily skewed."
      ],
      "metadata": {
        "id": "Po6ZPi4hphqO"
      }
    },
    {
      "cell_type": "markdown",
      "source": [
        "##### 3. Will the gained insights help creating a positive business impact?\n",
        "Are there any insights that lead to negative growth? Justify with specific reason."
      ],
      "metadata": {
        "id": "b0JNsNcRphqO"
      }
    },
    {
      "cell_type": "markdown",
      "source": [
        "Easy to read — Works for all audiences, even non-technical ones.\n",
        "\n",
        "Compact — Focuses on the most relevant species, avoiding visual overload.\n",
        "\n",
        "Visually intuitive — Colors clearly separate male vs. female observations."
      ],
      "metadata": {
        "id": "xvSq8iUTphqO"
      }
    },
    {
      "cell_type": "markdown",
      "source": [
        "ENVIRONMENTAL ANALYSIS"
      ],
      "metadata": {
        "id": "vRhssvmzFCmE"
      }
    },
    {
      "cell_type": "markdown",
      "source": [
        "#### Chart - 8  Temperature vs. Number of Birds"
      ],
      "metadata": {
        "id": "BZR9WyysphqO"
      }
    },
    {
      "cell_type": "code",
      "source": [
        "weather_df = df[['Temperature', 'Humidity', 'Sky', 'Wind', 'Scientific_Name', 'Distance']].copy()\n",
        "\n",
        "# Count observations per weather condition\n",
        "obs_weather = (\n",
        "    df.groupby(['Sky', 'Wind'])\n",
        "      .size()\n",
        "      .reset_index(name='Observation_Count')\n",
        ")\n",
        "\n",
        "# 1. Temperature vs. Number of Birds\n",
        "temp_counts = df.groupby('Temperature')['Scientific_Name'].count().reset_index(name='Observation_Count')\n",
        "\n",
        "plt.figure(figsize=(10, 5))\n",
        "sns.scatterplot(data=temp_counts, x='Temperature', y='Observation_Count')\n",
        "plt.title('Temperature vs Bird Observations')\n",
        "plt.xlabel('Temperature (°C)')\n",
        "plt.ylabel('Number of Observations')\n",
        "plt.tight_layout()\n",
        "plt.show()"
      ],
      "metadata": {
        "id": "k9v1wZT1FUjO"
      },
      "execution_count": null,
      "outputs": []
    },
    {
      "cell_type": "markdown",
      "source": [
        "##### Chart-9 Humidity vs. Number of Birds"
      ],
      "metadata": {
        "id": "Ho6HKlohFr4O"
      }
    },
    {
      "cell_type": "code",
      "source": [
        "\n",
        "# 2. Humidity vs. Number of Birds\n",
        "humidity_counts = df.groupby('Humidity')['Scientific_Name'].count().reset_index(name='Observation_Count')\n",
        "\n",
        "plt.figure(figsize=(10, 5))\n",
        "sns.scatterplot(data=humidity_counts, x='Humidity', y='Observation_Count')\n",
        "plt.title('Humidity vs Bird Observations')\n",
        "plt.xlabel('Humidity (%)')\n",
        "plt.ylabel('Number of Observations')\n",
        "plt.tight_layout()\n",
        "plt.show()\n"
      ],
      "metadata": {
        "id": "Zpm5RC5bFXfk"
      },
      "execution_count": null,
      "outputs": []
    },
    {
      "cell_type": "markdown",
      "source": [
        "#### Chart -10 Sky Condition"
      ],
      "metadata": {
        "id": "x-KmybmaFzPo"
      }
    },
    {
      "cell_type": "code",
      "source": [
        "# 3. Sky Condition\n",
        "plt.figure(figsize=(8, 5))\n",
        "sns.barplot(data=obs_weather.groupby('Sky')['Observation_Count'].sum().reset_index(),\n",
        "            x='Sky', y='Observation_Count', palette='viridis')\n",
        "plt.title('Bird Observations by Sky Condition')\n",
        "plt.xticks(rotation=45)\n",
        "plt.tight_layout()\n",
        "plt.show()"
      ],
      "metadata": {
        "id": "l78W8NIuFZea"
      },
      "execution_count": null,
      "outputs": []
    },
    {
      "cell_type": "markdown",
      "source": [
        "#### Chart -11  Wind Condition"
      ],
      "metadata": {
        "id": "N6fXXFf2F4zm"
      }
    },
    {
      "cell_type": "code",
      "source": [
        "\n",
        "# 4. Wind Condition\n",
        "plt.figure(figsize=(8, 5))\n",
        "sns.barplot(data=obs_weather.groupby('Wind')['Observation_Count'].sum().reset_index(),\n",
        "            x='Wind', y='Observation_Count', palette='magma')\n",
        "plt.title('Bird Observations by Wind Condition')\n",
        "plt.xticks(rotation=45)\n",
        "plt.tight_layout()\n",
        "plt.show()\n"
      ],
      "metadata": {
        "id": "a8oL76g1FbdM"
      },
      "execution_count": null,
      "outputs": []
    },
    {
      "cell_type": "markdown",
      "source": [
        "##### 1. Why did you pick the specific chart?"
      ],
      "metadata": {
        "id": "jj7wYXLtphqO"
      }
    },
    {
      "cell_type": "markdown",
      "source": [
        "Splits analysis into four separate plots, one for each weather factor → makes interpretation easier.\n",
        "\n",
        "Uses scatterplots for numeric variables (Temperature, Humidity) to show possible trends.\n",
        "\n",
        "Uses bar charts for categorical variables (Sky, Wind) to compare observation counts.\n",
        "\n"
      ],
      "metadata": {
        "id": "Ob8u6rCTphqO"
      }
    },
    {
      "cell_type": "markdown",
      "source": [
        "##### 2. What is/are the insight(s) found from the chart?"
      ],
      "metadata": {
        "id": "eZrbJ2SmphqO"
      }
    },
    {
      "cell_type": "markdown",
      "source": [
        "Temperature effect → See if birds are more active in mild, hot, or cold conditions.\n",
        "\n",
        "Humidity effect → Identify if humidity influences bird activity (e.g., more sightings in dry/wet conditions).\n",
        "\n",
        "Sky condition trends → Certain birds may be more visible in sunny vs. cloudy weather.\n",
        "\n",
        "Wind condition trends → Strong winds might reduce sightings or affect flight behavior."
      ],
      "metadata": {
        "id": "mZtgC_hjphqO"
      }
    },
    {
      "cell_type": "markdown",
      "source": [
        "##### 3. Will the gained insights help creating a positive business impact?\n",
        "Are there any insights that lead to negative growth? Justify with specific reason."
      ],
      "metadata": {
        "id": "rFu4xreNphqO"
      }
    },
    {
      "cell_type": "markdown",
      "source": [
        "Clear separation → Each weather variable is visualized individually for simplicity.\n",
        "\n",
        "Supports action → Findings can guide best survey times for maximum bird sightings.\n",
        "\n",
        "Easy to extend → Can later add trend lines, correlations, or split by habitat (Forest vs. Grassland).\n",
        "\n",
        "Quick detection of patterns → Helps spot environmental preferences of birds.\n",
        "\n"
      ],
      "metadata": {
        "id": "ey_0qi68phqO"
      }
    },
    {
      "cell_type": "markdown",
      "source": [
        "#### Chart - 12 Observation by disturbance level"
      ],
      "metadata": {
        "id": "YJ55k-q6phqO"
      }
    },
    {
      "cell_type": "code",
      "source": [
        "# Count number of observations per disturbance category\n",
        "disturbance_counts = (\n",
        "    df.groupby('Disturbance')['Scientific_Name']\n",
        "      .count()\n",
        "      .reset_index(name='Observation_Count')\n",
        "      .sort_values(by='Observation_Count', ascending=False)\n",
        ")\n",
        "\n",
        "# Plot\n",
        "plt.figure(figsize=(8, 5))\n",
        "sns.barplot(\n",
        "    data=disturbance_counts,\n",
        "    x='Disturbance',\n",
        "    y='Observation_Count',\n",
        "    palette='viridis'\n",
        ")\n",
        "plt.title('Bird Observations by Disturbance Level', fontsize=16)\n",
        "plt.xlabel('Disturbance Type')\n",
        "plt.ylabel('Number of Observations')\n",
        "plt.xticks(rotation=45, ha='right')\n",
        "plt.tight_layout()\n",
        "plt.show()\n"
      ],
      "metadata": {
        "id": "B2aS4O1ophqO"
      },
      "execution_count": null,
      "outputs": []
    },
    {
      "cell_type": "markdown",
      "source": [
        "##### 1. Why did you pick the specific chart?"
      ],
      "metadata": {
        "id": "gCFgpxoyphqP"
      }
    },
    {
      "cell_type": "markdown",
      "source": [
        "Bar chart works well for categorical variables like Disturbance.\n",
        "\n",
        "Shows which disturbance levels (e.g., No effect, Slight effect, Major effect) have the highest or lowest sightings."
      ],
      "metadata": {
        "id": "TVxDimi2phqP"
      }
    },
    {
      "cell_type": "markdown",
      "source": [
        "##### 2. What is/are the insight(s) found from the chart?"
      ],
      "metadata": {
        "id": "OVtJsKN_phqQ"
      }
    },
    {
      "cell_type": "markdown",
      "source": [
        "Tolerance to disturbance — If sightings remain high under slight disturbance, birds may be more adaptable.\n",
        "\n",
        "Sensitive conditions — Low counts in high disturbance zones could indicate species sensitivity."
      ],
      "metadata": {
        "id": "ngGi97qjphqQ"
      }
    },
    {
      "cell_type": "markdown",
      "source": [
        "##### 3. Will the gained insights help creating a positive business impact?\n",
        "Are there any insights that lead to negative growth? Justify with specific reason."
      ],
      "metadata": {
        "id": "lssrdh5qphqQ"
      }
    },
    {
      "cell_type": "markdown",
      "source": [
        "Very readable — Even for non-technical stakeholders.\n",
        "\n",
        "Direct link to conservation action — Can guide where disturbance control is most needed.\n",
        "\n",
        "Quick comparison — Instantly see how observation counts change with disturbance levels."
      ],
      "metadata": {
        "id": "tBpY5ekJphqQ"
      }
    },
    {
      "cell_type": "markdown",
      "source": [
        "### Distance and Behaviour Analysis"
      ],
      "metadata": {
        "id": "uvQXJkZ-Gy1Z"
      }
    },
    {
      "cell_type": "markdown",
      "source": [
        "#### Chart - 13 flyover obeservations"
      ],
      "metadata": {
        "id": "U2RJ9gkRphqQ"
      }
    },
    {
      "cell_type": "code",
      "source": [
        "# Count how many times flyovers were observed vs not observed\n",
        "flyover_counts = (\n",
        "    df['Flyover_Observed']\n",
        "    .value_counts()\n",
        "    .reset_index()\n",
        ")\n",
        "flyover_counts.columns = ['Flyover_Observed', 'Count']\n",
        "\n",
        "# Plot\n",
        "plt.figure(figsize=(6, 4))\n",
        "sns.barplot(\n",
        "    data=flyover_counts,\n",
        "    x='Flyover_Observed',\n",
        "    y='Count',\n",
        "    palette='coolwarm'\n",
        ")\n",
        "plt.title('Flyover Observations', fontsize=16)\n",
        "plt.xlabel('Flyover Observed')\n",
        "plt.ylabel('Number of Observations')\n",
        "plt.tight_layout()\n",
        "plt.show()\n"
      ],
      "metadata": {
        "id": "GM7a4YP4phqQ"
      },
      "execution_count": null,
      "outputs": []
    },
    {
      "cell_type": "markdown",
      "source": [
        "##### 1. Why did you pick the specific chart?"
      ],
      "metadata": {
        "id": "1M8mcRywphqQ"
      }
    },
    {
      "cell_type": "markdown",
      "source": [
        "Binary variable → a simple bar chart clearly shows the proportion of observations with and without flyovers.\n",
        "\n",
        "Helps quickly assess how common flyovers are in the dataset."
      ],
      "metadata": {
        "id": "8agQvks0phqQ"
      }
    },
    {
      "cell_type": "markdown",
      "source": [
        "##### 2. What is/are the insight(s) found from the chart?"
      ],
      "metadata": {
        "id": "tgIPom80phqQ"
      }
    },
    {
      "cell_type": "markdown",
      "source": [
        "Flyover frequency — See what percentage of total sightings involved birds flying overhead.\n",
        "\n",
        "Possible species behavior — High flyover rates could suggest migratory movements or birds feeding in flight.\n",
        "\n"
      ],
      "metadata": {
        "id": "Qp13pnNzphqQ"
      }
    },
    {
      "cell_type": "markdown",
      "source": [
        "##### 3. Will the gained insights help creating a positive business impact?\n",
        "Are there any insights that lead to negative growth? Justify with specific reason."
      ],
      "metadata": {
        "id": "JMzcOPDDphqR"
      }
    },
    {
      "cell_type": "markdown",
      "source": [
        "Minimal complexity — Very easy for anyone to understand.\n",
        "\n",
        "Quick behavioral indicator — Shows prevalence of in-flight observations.\n",
        "\n",
        "Foundation for deeper analysis — Can later be broken down by habitat, time of day, or species."
      ],
      "metadata": {
        "id": "R4Ka1PC2phqR"
      }
    },
    {
      "cell_type": "markdown",
      "source": [
        "### Observer Trends Analysis"
      ],
      "metadata": {
        "id": "QL1m5mEVHd3C"
      }
    },
    {
      "cell_type": "markdown",
      "source": [
        "#### Chart - 14 top 3 observers"
      ],
      "metadata": {
        "id": "x-EpHcCOp1ci"
      }
    },
    {
      "cell_type": "code",
      "source": [
        "# Count observations per observer\n",
        "observer_counts = (\n",
        "    df.groupby('Observer')['Scientific_Name']\n",
        "      .count()\n",
        "      .reset_index(name='Observation_Count')\n",
        "      .sort_values(by='Observation_Count', ascending=False)\n",
        ")\n",
        "\n",
        "# Take top 10 observers for clarity\n",
        "top_n = 3\n",
        "observer_counts_top = observer_counts.head(top_n)\n",
        "\n",
        "# Plot\n",
        "plt.figure(figsize=(10, 6))\n",
        "sns.barplot(\n",
        "    data=observer_counts_top,\n",
        "    x='Observation_Count',\n",
        "    y='Observer',\n",
        "    palette='viridis'\n",
        ")\n",
        "plt.title(f'Top {top_n} Observers by Number of Observations', fontsize=16)\n",
        "plt.xlabel('Number of Observations')\n",
        "plt.ylabel('Observer')\n",
        "plt.tight_layout()\n",
        "plt.show()"
      ],
      "metadata": {
        "id": "mAQTIvtqp1cj"
      },
      "execution_count": null,
      "outputs": []
    },
    {
      "cell_type": "markdown",
      "source": [
        "##### 1. Why did you pick the specific chart?"
      ],
      "metadata": {
        "id": "X_VqEhTip1ck"
      }
    },
    {
      "cell_type": "markdown",
      "source": [
        "Shows which observers contribute the most sightings in the dataset.\n",
        "\n",
        "Focuses on top 3 to avoid overcrowding."
      ],
      "metadata": {
        "id": "-vsMzt_np1ck"
      }
    },
    {
      "cell_type": "markdown",
      "source": [
        "##### 2. What is/are the insight(s) found from the chart?"
      ],
      "metadata": {
        "id": "8zGJKyg5p1ck"
      }
    },
    {
      "cell_type": "markdown",
      "source": [
        "Uneven contribution — If a few observers record most sightings, results may be skewed toward their habits, skill levels, or favorite locations.\n",
        "\n",
        "Possible skill differences — More experienced observers might spot/identify more birds."
      ],
      "metadata": {
        "id": "ZYdMsrqVp1ck"
      }
    },
    {
      "cell_type": "markdown",
      "source": [
        "##### 3. Will the gained insights help creating a positive business impact?\n",
        "Are there any insights that lead to negative growth? Justify with specific reason."
      ],
      "metadata": {
        "id": "PVzmfK_Ep1ck"
      }
    },
    {
      "cell_type": "markdown",
      "source": [
        "Very clear & readable — Good for both technical and non-technical audiences.\n",
        "\n",
        "Identifies data collection imbalance — Helps plan future surveys to distribute observation effort more evenly.\n",
        "\n",
        "Can combine with species counts — You can extend this to show which species each observer records most often."
      ],
      "metadata": {
        "id": "druuKYZpp1ck"
      }
    },
    {
      "cell_type": "markdown",
      "source": [
        "### Conservation Insights Analysis"
      ],
      "metadata": {
        "id": "RmxaeP5IH78j"
      }
    },
    {
      "cell_type": "markdown",
      "source": [
        "#### Chart - 15 Conservation analysis"
      ],
      "metadata": {
        "id": "n3dbpmDWp1ck"
      }
    },
    {
      "cell_type": "code",
      "source": [
        "# Count how many observations fall into each watchlist & stewardship category\n",
        "watchlist_counts = (\n",
        "    df.groupby(['PIF_Watchlist_Status', 'Regional_Stewardship_Status'])['Scientific_Name']\n",
        "      .count()\n",
        "      .reset_index(name='Observation_Count')\n",
        ")\n",
        "\n",
        "# Plot as grouped bar chart\n",
        "plt.figure(figsize=(8, 5))\n",
        "sns.barplot(\n",
        "    data=watchlist_counts,\n",
        "    x='PIF_Watchlist_Status',\n",
        "    y='Observation_Count',\n",
        "    hue='Regional_Stewardship_Status',\n",
        "    palette='viridis'\n",
        ")\n",
        "plt.title('Watchlist & Stewardship Status Trends', fontsize=16)\n",
        "plt.xlabel('PIF Watchlist Status')\n",
        "plt.ylabel('Number of Observations')\n",
        "plt.show()\n"
      ],
      "metadata": {
        "id": "bwevp1tKp1ck"
      },
      "execution_count": null,
      "outputs": []
    },
    {
      "cell_type": "markdown",
      "source": [
        "##### 1. Why did you pick the specific chart?"
      ],
      "metadata": {
        "id": "ylSl6qgtp1ck"
      }
    },
    {
      "cell_type": "markdown",
      "source": [
        "Grouped bar chart makes it easy to compare species on the watchlist against their regional stewardship status.\n",
        "\n",
        "Shows conservation priority at both national (watchlist) and regional levels in one visual."
      ],
      "metadata": {
        "id": "m2xqNkiQp1ck"
      }
    },
    {
      "cell_type": "markdown",
      "source": [
        "##### 2. What is/are the insight(s) found from the chart?"
      ],
      "metadata": {
        "id": "ZWILFDl5p1ck"
      }
    },
    {
      "cell_type": "markdown",
      "source": [
        "Overlap of priorities — See how many watchlist species are also regionally important.\n",
        "\n",
        "Focus areas — If many species have TRUE for both statuses, these should be conservation priorities.\n",
        "\n",
        "Monitoring needs — Low counts might indicate rare or elusive species that need special tracking."
      ],
      "metadata": {
        "id": "x-lUsV2mp1ck"
      }
    },
    {
      "cell_type": "markdown",
      "source": [
        "##### 3. Will the gained insights help creating a positive business impact?\n",
        "Are there any insights that lead to negative growth? Justify with specific reason."
      ],
      "metadata": {
        "id": "M7G43BXep1ck"
      }
    },
    {
      "cell_type": "markdown",
      "source": [
        "Dual insight — Combines two conservation indicators in one chart.\n",
        "\n",
        "Clear visual comparison — Bar lengths make it easy to spot where most observations fall.\n",
        "\n",
        "Direct conservation link — Immediately useful for wildlife managers and policymakers."
      ],
      "metadata": {
        "id": "5wwDJXsLp1cl"
      }
    },
    {
      "cell_type": "markdown",
      "source": [
        "#### Chart - 16 top 15 AOU codes\n",
        ""
      ],
      "metadata": {
        "id": "Ag9LCva-p1cl"
      }
    },
    {
      "cell_type": "code",
      "source": [
        "# Count observations per AOU_Code\n",
        "aou_counts = (\n",
        "    df.groupby('AOU_Code')['Scientific_Name']\n",
        "      .count()\n",
        "      .reset_index(name='Observation_Count')\n",
        "      .sort_values(by='Observation_Count', ascending=False)\n",
        ")\n",
        "\n",
        "# Show only top 15 codes for clarity\n",
        "top_n = 15\n",
        "aou_counts_top = aou_counts.head(top_n)\n",
        "\n",
        "# Plot\n",
        "plt.figure(figsize=(10, 6))\n",
        "sns.barplot(\n",
        "    data=aou_counts_top,\n",
        "    x='AOU_Code',\n",
        "    y='Observation_Count',\n",
        "    palette='viridis'\n",
        ")\n",
        "plt.title(f'Top {top_n} AOU Codes by Number of Observations', fontsize=16)\n",
        "plt.xlabel('AOU Code')\n",
        "plt.ylabel('Number of Observations')\n",
        "plt.tight_layout()\n",
        "plt.show()\n"
      ],
      "metadata": {
        "id": "EUfxeq9-p1cl"
      },
      "execution_count": null,
      "outputs": []
    },
    {
      "cell_type": "markdown",
      "source": [
        "##### 1. Why did you pick the specific chart?"
      ],
      "metadata": {
        "id": "E6MkPsBcp1cl"
      }
    },
    {
      "cell_type": "markdown",
      "source": [
        "Bar chart makes it easy to see which AOU codes (species) have the most sightings.\n",
        "\n",
        "Top-15 filtering avoids clutter and keeps focus on the most important codes.\n",
        "\n",
        "AOU codes are standardized, so they can be linked with national/regional conservation lists."
      ],
      "metadata": {
        "id": "V22bRsFWp1cl"
      }
    },
    {
      "cell_type": "markdown",
      "source": [
        "##### 2. What is/are the insight(s) found from the chart?"
      ],
      "metadata": {
        "id": "2cELzS2fp1cl"
      }
    },
    {
      "cell_type": "markdown",
      "source": [
        "Most common species by AOU code — Shows which species dominate the observations.\n",
        "\n",
        "Priority monitoring species — Can cross-check top codes with official conservation priority lists.\n",
        "\n",
        "Possible survey bias — If a few AOU codes dominate, observers might be focusing on specific bird types."
      ],
      "metadata": {
        "id": "ozQPc2_Ip1cl"
      }
    },
    {
      "cell_type": "markdown",
      "source": [
        "##### 3. Will the gained insights help creating a positive business impact?\n",
        "Are there any insights that lead to negative growth? Justify with specific reason."
      ],
      "metadata": {
        "id": "3MPXvC8up1cl"
      }
    },
    {
      "cell_type": "markdown",
      "source": [
        "Clear & focused — Avoids showing hundreds of codes at once.\n",
        "\n",
        "Standardized reference — AOU codes can be matched with official species data for deeper analysis.\n",
        "\n",
        "Actionable for conservation — Easy to see which codes/species should be compared with watchlist status."
      ],
      "metadata": {
        "id": "GL8l1tdLp1cl"
      }
    },
    {
      "cell_type": "markdown",
      "source": [
        "## **5. Solution to Business Objective**"
      ],
      "metadata": {
        "id": "W4eF8T0VWfzm"
      }
    },
    {
      "cell_type": "markdown",
      "source": [
        "1. Wildlife Conservation\n",
        "EDA Output:\n",
        "\n",
        "Biodiversity hotspot maps from Plot-Level and Location-Level analysis.\n",
        "\n",
        "Watchlist & stewardship charts showing species at risk.\n",
        "\n",
        "Solution:\n",
        "\n",
        "Direct conservation efforts toward high-diversity plots with endangered species.\n",
        "\n",
        "Prioritize habitat protection in areas with rare or vulnerable species.\n",
        "\n",
        "\n",
        "---\n",
        "\n",
        "\n",
        "\n",
        "2. Land Management\n",
        "EDA Output:\n",
        "\n",
        "Habitat split (Forest vs Grassland) biodiversity metrics.\n",
        "\n",
        "Disturbance impact analysis.\n",
        "\n",
        "Solution:\n",
        "\n",
        "Manage human activity to reduce disturbance in sensitive plots.\n",
        "\n",
        "Focus restoration projects in low-diversity or high-disturbance areas.\n",
        "\n",
        "\n",
        "---\n",
        "\n",
        "\n",
        "3. Eco-Tourism\n",
        "EDA Output:\n",
        "\n",
        "Plots with the highest diversity and unique species counts.\n",
        "\n",
        "Seasonal patterns in bird sightings.\n",
        "\n",
        "Solution:\n",
        "\n",
        "Develop bird-watching trails in high-diversity zones.\n",
        "\n",
        "Promote peak observation periods for tourism events.\n",
        "\n",
        "\n",
        "---\n",
        "\n",
        "\n",
        "4. Sustainable Agriculture\n",
        "EDA Output:\n",
        "\n",
        "Species distribution across grasslands.\n",
        "\n",
        "Environmental factor correlation (Temperature, Humidity, Sky, Wind).\n",
        "\n",
        "Solution:\n",
        "\n",
        "Guide farmers on wildlife-friendly practices during critical breeding/migration seasons.\n",
        "\n",
        "Preserve hedgerows and water sources in agricultural grasslands.\n",
        "\n",
        "\n",
        "---\n",
        "\n",
        "\n",
        "5. Policy Support\n",
        "EDA Output:\n",
        "\n",
        "Watchlist and AOU code-based priority species reports.\n",
        "\n",
        "Observer bias detection for data reliability.\n",
        "\n",
        "Solution:\n",
        "\n",
        "Provide policymakers with validated lists of at-risk species.\n",
        "\n",
        "Recommend protected area expansions or stricter disturbance regulations.\n",
        "\n",
        "\n",
        "---\n",
        "\n",
        "\n",
        "6. Biodiversity Monitoring\n",
        "EDA Output:\n",
        "\n",
        "Temporal trend analysis (yearly/seasonal changes).\n",
        "\n",
        "Flyover frequency as a migratory indicator.\n",
        "\n",
        "Solution:\n",
        "\n",
        "Create ongoing monitoring programs focused on identified indicator species.\n",
        "\n",
        "Use trends to measure the effectiveness of conservation policies.\n",
        "\n"
      ],
      "metadata": {
        "id": "AaxcZOWfWgVZ"
      }
    },
    {
      "cell_type": "markdown",
      "source": [
        "# **Conclusion**"
      ],
      "metadata": {
        "id": "gCX9965dhzqZ"
      }
    },
    {
      "cell_type": "markdown",
      "source": [
        "The analysis of bird species observations across forest and grassland ecosystems reveals clear patterns in biodiversity, species behavior, and environmental influences. Plot-level and location-type diversity metrics identified specific biodiversity hotspots that can serve as priority areas for conservation. Environmental factor correlations highlighted how temperature, humidity, sky, and wind conditions affect bird activity, while disturbance analysis showed that certain species are highly sensitive to human impact.\n",
        "\n",
        "\n",
        "---\n",
        "\n",
        "\n",
        "Behavioral insights from ID methods, interval lengths, sex ratios, and flyover frequencies provided a deeper understanding of species’ habits and detectability. Conservation-focused analyses using PIF Watchlist Status, Regional Stewardship Status, and AOU Code patterns pinpointed species of national and regional concern, aligning ecological priorities with policy needs. Observer bias checks ensured data reliability by identifying uneven contributions among surveyors.\n",
        "\n",
        "\n",
        "---\n",
        "\n",
        "\n",
        "These findings support multiple business objectives — from guiding wildlife conservation strategies and optimizing land management to enhancing eco-tourism opportunities and informing biodiversity policies. The dataset, when combined with targeted visual analytics, offers actionable, evidence-based insights that can directly contribute to habitat protection, species preservation, and sustainable ecosystem management."
      ],
      "metadata": {
        "id": "Fjb1IsQkh3yE"
      }
    }
  ]
}